{
  "nbformat": 4,
  "nbformat_minor": 0,
  "metadata": {
    "colab": {
      "name": "설문지 상관성_시각화코드.ipynb",
      "provenance": []
    },
    "kernelspec": {
      "name": "python3",
      "display_name": "Python 3"
    },
    "language_info": {
      "name": "python"
    }
  },
  "cells": [
    {
      "cell_type": "markdown",
      "metadata": {
        "id": "EBE-M1QwRpCI"
      },
      "source": [
        "# 산림 휴양복지 통계 설문정보\n",
        "* 해당 데이터는 엑셀에서 전처리를 진행해줌. \n",
        "* 아래의 코드는 상관성 수치와 상관 정도를 보여주는 heatmap 제작을 위한 코드임. \n"
      ]
    },
    {
      "cell_type": "code",
      "metadata": {
        "id": "L9J_me5yhNR-"
      },
      "source": [
        "DF=pd.read_csv('data.csv')\n",
        "DF"
      ],
      "execution_count": null,
      "outputs": []
    },
    {
      "cell_type": "code",
      "metadata": {
        "id": "Rc863pP6R-PG"
      },
      "source": [
        "DF.drop('number', axis=1, inplace=True)\n",
        "DF.rename(columns={'q1.1':'사용빈도', 'q1.3':'이동거리', 'q1.9':'만족도'}, inplace=True)\n",
        "DF"
      ],
      "execution_count": null,
      "outputs": []
    },
    {
      "cell_type": "code",
      "metadata": {
        "id": "4xTM9CfBhUKD"
      },
      "source": [
        "plt.figure(figsize=(15,8))\n",
        "sns.heatmap(data = DF.corr(), annot=True, cmap='Greens')\n",
        "#sns.pairplot(DF, x_vars=['q1.1'], y_vars=['q1.3'], kind='reg', height=6)"
      ],
      "execution_count": null,
      "outputs": []
    },
    {
      "cell_type": "code",
      "metadata": {
        "id": "hEab-kVlhbz5"
      },
      "source": [
        "import plotly.figure_factory as ff\n",
        "\n",
        "\n",
        "x = ['사용빈도', '이동거리', '만족도']\n",
        "y = [ '만족도', '이동거리','사용빈도']\n",
        "\n",
        "z= [[0.21, 0.076, 1,],\n",
        "    [0.45, 1, 0.076],\n",
        "    [1, 0.45, 0.21]]\n",
        "\n",
        "colorscale = [[0, '#EAEAEA'], [1, '#6EB9AB']]\n",
        "fig = ff.create_annotated_heatmap(z, x=x, y=y, colorscale=colorscale)\n",
        "fig.update_layout(width=700,height=500,\n",
        "                  font_size=14,\n",
        "                  paper_bgcolor=\"#F6F6F6\")\n",
        "fig.write_html(\"survey_heatmap.html\")\n",
        "fig.show()"
      ],
      "execution_count": null,
      "outputs": []
    }
  ]
}